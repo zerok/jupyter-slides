{
 "cells": [
  {
   "cell_type": "code",
   "execution_count": 2,
   "metadata": {
    "slideshow": {
     "slide_type": "skip"
    }
   },
   "outputs": [],
   "source": [
    "import pathlib\n",
    "import requests\n",
    "\n",
    "def get_data(cache_key, url):\n",
    "    \"\"\"\n",
    "    get_data is a little helper that downloads a given URL only if its data\n",
    "    is not in the cache already.\n",
    "    \"\"\"\n",
    "    cache = pathlib.Path('cached_{}'.format(cache_key))\n",
    "    if cache.exists():\n",
    "        return cache.read_text()\n",
    "    with open(cache, 'w+') as fp:\n",
    "        fp.write(requests.get(url).text)\n",
    "    return cache.read_text()"
   ]
  },
  {
   "cell_type": "markdown",
   "metadata": {
    "slideshow": {
     "slide_type": "slide"
    }
   },
   "source": [
    "# Jupyter & JupyterLab"
   ]
  },
  {
   "cell_type": "markdown",
   "metadata": {
    "slideshow": {
     "slide_type": "slide"
    }
   },
   "source": [
    "- My name is **Horst Gutmann** 👋\n",
    "- Software architect @ NETCONOMY (https://netconomy.net) 🖥\n",
    "- Lots of analysis work where its good to \"know the numbers\" 📊\n",
    "- **Just a user**. I didn't come up with this stuff! 😅"
   ]
  },
  {
   "cell_type": "markdown",
   "metadata": {
    "slideshow": {
     "slide_type": "slide"
    }
   },
   "source": [
    "## Literate programming\n",
    "\n",
    "Back in 1984, Donald Knuth coined the term **Literate programming**:\n",
    "\n",
    "> [...] is a programming paradigm in which a computer program is given an explanation of its logic in a natural language, such as English, interspersed with snippets of macros and traditional source code, from which compilable source code can be generated.\n",
    ">\n",
    "> -- https://en.wikipedia.org/wiki/Literate_programming\n",
    "\n",
    "So unlike code-comments, you write prosa text and sprinkle code etc. in it to be executed."
   ]
  },
  {
   "cell_type": "markdown",
   "metadata": {
    "slideshow": {
     "slide_type": "slide"
    }
   },
   "source": [
    "## Reproducible documentation"
   ]
  },
  {
   "cell_type": "markdown",
   "metadata": {
    "slideshow": {
     "slide_type": "fragment"
    }
   },
   "source": [
    "- Reports that come with all the data and processing logic\n",
    "  - Where is all that data in your report coming from?\n",
    "  - What did you do to it before it ended up in the report?"
   ]
  },
  {
   "cell_type": "markdown",
   "metadata": {
    "slideshow": {
     "slide_type": "fragment"
    }
   },
   "source": [
    "- Data journalism\n",
    "  - Pretty much the same set of questions..."
   ]
  },
  {
   "cell_type": "markdown",
   "metadata": {
    "slideshow": {
     "slide_type": "fragment"
    }
   },
   "source": [
    "- Performance measurements of your fancy new web application\n",
    "  - Guess what? You will be asked the same questions!"
   ]
  },
  {
   "cell_type": "markdown",
   "metadata": {},
   "source": [
    "## The Jupyter project\n",
    "\n",
    "- Project to develop cross-language and cross-platform software for *interactive computing*\n",
    "- Started off with a \"better\" Python REPL\n",
    "- https://jupyter.org"
   ]
  },
  {
   "cell_type": "markdown",
   "metadata": {},
   "source": [
    "## Jupyter Notebook\n",
    "\n",
    "Interactive web application that lets you create and share documents containing...\n",
    "\n",
    "- live code (default: Python; other languages are supported through extensions)\n",
    "- equations\n",
    "- diagrams\n",
    "- ..."
   ]
  },
  {
   "cell_type": "markdown",
   "metadata": {
    "slideshow": {
     "slide_type": "slide"
    }
   },
   "source": [
    "## Docs + data + code"
   ]
  },
  {
   "cell_type": "markdown",
   "metadata": {},
   "source": [
    "Let's find out, who spoke on day 1 at WTD Prague 2019:"
   ]
  },
  {
   "cell_type": "code",
   "execution_count": 8,
   "metadata": {
    "slideshow": {
     "slide_type": "fragment"
    }
   },
   "outputs": [
    {
     "name": "stdout",
     "output_type": "stream",
     "text": [
      "Kayla Lee\n",
      "James Scott\n",
      "Brian Lemke\n",
      "Kelly O'Brien\n",
      "Alison MacNeil\n",
      "Ben Ahmady\n",
      "Karen Sawrey\n",
      "Ilona Koren-Deutsch\n"
     ]
    }
   ],
   "source": [
    "import yaml\n",
    "import pprint\n",
    "\n",
    "speaker_url = 'https://raw.githubusercontent.com/writethedocs/www/master/docs/_data/prague-2019-day-1.yaml'\n",
    "sessions = yaml.load(get_data('speakers', speaker_url), Loader=yaml.SafeLoader)\n",
    "\n",
    "for session in sessions:\n",
    "    if session['Duration'] == '30':\n",
    "        segments = session['Session'].split(' - ')\n",
    "        if len(segments) > 1:\n",
    "            print(segments[0])"
   ]
  },
  {
   "cell_type": "markdown",
   "metadata": {
    "slideshow": {
     "slide_type": "slide"
    }
   },
   "source": [
    "You can do graphs of things like slot durations 🍿"
   ]
  },
  {
   "cell_type": "code",
   "execution_count": 9,
   "metadata": {
    "slideshow": {
     "slide_type": "fragment"
    }
   },
   "outputs": [
    {
     "data": {
      "text/plain": [
       "<matplotlib.axes._subplots.AxesSubplot at 0x7f0d49018190>"
      ]
     },
     "metadata": {},
     "output_type": "display_data"
    },
    {
     "data": {
      "image/png": "[encoded data removed]",
      "text/plain": [
       "<Figure size 432x288 with 1 Axes>"
      ]
     },
     "metadata": {},
     "output_type": "display_data"
    }
   ],
   "source": [
    "import pandas as pd\n",
    "\n",
    "all_durations = [int(s['Duration']) for s in sessions if s.get('Duration')]\n",
    "all_durations = pd.Series(all_durations)\n",
    "\n",
    "display(all_durations.groupby(all_durations).count().plot.pie())"
   ]
  },
  {
   "cell_type": "markdown",
   "metadata": {
    "slideshow": {
     "slide_type": "slide"
    }
   },
   "source": [
    "## JupyterLab = JupyterNotebook++\n",
    "\n",
    "- JupyterLab is basically the advanced version of JupyterNotebook\n",
    "- Development environment for notebooks\n",
    "- Multiple tabs\n",
    "- Views for code output\n",
    "- In-browser file management\n",
    "- ..."
   ]
  },
  {
   "cell_type": "markdown",
   "metadata": {},
   "source": [
    "## Share notebooks\n",
    "\n",
    "- You can share notebook files with other people and they can re-run your calculations.\n",
    "  - ipynb files don't contain variable state but just the source and the output!\n",
    "- For public notebooks you can also use https://nbviewer.jupyter.org/\n",
    "- GitHub renders notebooks, too!\n",
    "\n",
    "![](github-preview.png)"
   ]
  },
  {
   "cell_type": "markdown",
   "metadata": {
    "slideshow": {
     "slide_type": "slide"
    }
   },
   "source": [
    "## Find out more:\n",
    "\n",
    "https://jupyter.org\n",
    "    \n",
    "## Installation\n",
    "\n",
    "```\n",
    "$ pipenv install jupyterlab \\\n",
    "    pandas\n",
    "    requests\n",
    "    \n",
    "$ pipenv run jupyter lab\n",
    "```\n",
    "\n",
    "Alternatively, I also maintain the [zerok/jupyter Docker image](https://github.com/zerok/jupyter-docker-image), which comes with a lot of batteries:\n",
    "\n",
    "```\n",
    "$ eval $(docker run --rm zerok/jupyter bash-func)\n",
    "$ lab\n",
    "[I 17:36:49.803 LabApp] Writing notebook server cookie secret to /root/.local/share/jupyter/runtime/notebook_cookie_secret\n",
    "[I 17:36:50.074 LabApp] JupyterLab extension loaded from /usr/local/lib/python3.7/site-packages/jupyterlab\n",
    "[I 17:36:50.074 LabApp] JupyterLab application directory is /usr/local/share/jupyter/lab\n",
    "[I 17:36:50.076 LabApp] Serving notebooks from local directory: /data\n",
    "[I 17:36:50.076 LabApp] The Jupyter Notebook is running at:\n",
    "[I 17:36:50.076 LabApp] http://39c8570e9c77:9980/?token=f9c906589acd04fe97130c4b34cf05c2d6950306688a9e40\n",
    "[I 17:36:50.076 LabApp]  or http://127.0.0.1:9980/?token=f9c906589acd04fe97130c4b34cf05c2d6950306688a9e40\n",
    "[I 17:36:50.076 LabApp] Use Control-C to stop this server and shut down all kernels (twice to skip confirmation).\n",
    "[C 17:36:50.079 LabApp]\n",
    "```"
   ]
  }
 ],
 "metadata": {
  "kernelspec": {
   "display_name": "Python 3",
   "language": "python",
   "name": "python3"
  },
  "language_info": {
   "codemirror_mode": {
    "name": "ipython",
    "version": 3
   },
   "file_extension": ".py",
   "mimetype": "text/x-python",
   "name": "python",
   "nbconvert_exporter": "python",
   "pygments_lexer": "ipython3",
   "version": "3.7.4"
  }
 },
 "nbformat": 4,
 "nbformat_minor": 4
}
